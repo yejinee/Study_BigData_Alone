{
 "cells": [
  {
   "cell_type": "markdown",
   "source": [
    "# Classification\r\n",
    "- 지도학습에 해당\r\n",
    "## 종류\r\n",
    "- 나이브 베이즈 ( Naive Bayes )\r\n",
    "    - 베이즈 통계와 생성모델에 기반\r\n",
    "- 로지스틱 회귀 ( Logistic Regression)\r\n",
    "    - 독립변수와 종속변수의 선형 관계성에 기반\r\n",
    "- 결정 트리 (Decision Tree)\r\n",
    "    - 데이터 균일도에 따른 규칙 기반\r\n",
    "- 서포트 벡터 머신 ( SVM )\r\n",
    "    - 개별 클래스 간의 최대 분류 마진을 효과적으로 찾음\r\n",
    "- 최소 근접 (Nearest Neighbor)\r\n",
    "    - 근접 거리를 기준\r\n",
    "- 신경망 ( Neural Network )\r\n",
    "    - 심층 연결 기반\r\n",
    "- 앙상블 ( Ensemble )\r\n",
    "    - 서로 다른(같은) 머신러닝 알고리즘 결합 "
   ],
   "metadata": {}
  },
  {
   "cell_type": "markdown",
   "source": [
    "## 앙상블\r\n",
    "- 정형 데이터의 예측 분석 영역에서 높은 예측 성능 가짐\r\n",
    "- 대부분 동일한 알고리즘 결합\r\n",
    "- 많은 여러개의 약한 학습기 (예측 성능이 상대적으로 떨어지는 학습 알고리즘) 사용\r\n",
    "### 배깅 (Bagging)\r\n",
    "- Random Forest\r\n",
    "    - 예측 성능 뛰어남\r\n",
    "    - 상대적으로 빠른 수행 시간 가짐\r\n",
    "    - 유연성\r\n",
    "\r\n",
    "### 부스팅 (Boosting)\r\n",
    "- 지속해서 발전됌\r\n",
    "- 그래디언트 부스팅 (Gradient Boosting)\r\n",
    "    - 뛰어난 예측 성능 가짐\r\n",
    "    - 수행시간이 너무 오래 걸려서 최적화 모델 튜닝 어려움 \r\n",
    "- XgBoost ( eXtra Gradient Boost ) & LightGBM\r\n",
    "    - 기존 gradient boosting 성능 향상, 수행 시간 단축 \r\n",
    "    - 정형 데이터 분류 영역에서 가장 활용도 높음 \r\n",
    "    "
   ],
   "metadata": {}
  },
  {
   "cell_type": "markdown",
   "source": [
    "## Decision Tree ( 결정 트리 )\r\n",
    "- 데이터에 있는 규칙을 학습을 통해 자동으로 찾아내 Tree기반의 분류 규칙 만듬\r\n",
    "- if/else 를 자동으로 찾아내 예측을 위한 규칙을 만들어 가장 효율적인 분류가 될것인지 만듬\r\n",
    "- data set마다 feature가 있고 feature가 결합해 규칙 조건을 만듬 \r\n",
    "- 많은 규칙이 있다는 것은 분류를 결정하는 방식이 복잡해짐을 의미 \r\n",
    "    - 과적합 유발\r\n",
    "- 트리의 깊이가 깊어질수록 결정트리의 예측 성능이 저하될 가능성이 높음\r\n"
   ],
   "metadata": {}
  }
 ],
 "metadata": {
  "interpreter": {
   "hash": "a8a43a9a5ee502f0e473fdce8198fcd34e49c50bf095bba8698ce97933ecaf60"
  },
  "kernelspec": {
   "display_name": "Python 3.8.10 64-bit ('yejin': conda)",
   "name": "python3"
  },
  "language_info": {
   "name": "python",
   "version": ""
  },
  "orig_nbformat": 4
 },
 "nbformat": 4,
 "nbformat_minor": 2
}