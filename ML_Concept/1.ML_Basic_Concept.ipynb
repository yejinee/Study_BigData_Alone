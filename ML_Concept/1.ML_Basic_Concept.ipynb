{
 "metadata": {
  "language_info": {
   "codemirror_mode": {
    "name": "ipython",
    "version": 3
   },
   "file_extension": ".py",
   "mimetype": "text/x-python",
   "name": "python",
   "nbconvert_exporter": "python",
   "pygments_lexer": "ipython3",
   "version": "3.7.4"
  },
  "orig_nbformat": 4,
  "kernelspec": {
   "name": "python3",
   "display_name": "Python 3.7.4 64-bit ('base': conda)"
  },
  "interpreter": {
   "hash": "aad7fa43305c5ed1fb127d263f3083b3588cd5af60f171b45496a79879bf8414"
  }
 },
 "nbformat": 4,
 "nbformat_minor": 2,
 "cells": [
  {
   "cell_type": "markdown",
   "source": [
    "# 1. ML 기본 개념\r\n",
    "## Scikit-Learn Example 1 \r\n",
    "## iris 품종 Classification"
   ],
   "metadata": {}
  },
  {
   "cell_type": "markdown",
   "source": [
    "### Classification\n",
    "- 지도학습 (Supervised Learning )\n",
    "\n",
    "<br> </br>\n",
    "\n",
    "\n",
    "### 지도학습\n",
    "- 명확한 정답이 주어진 데이터를 먼저 학습한 뒤 미지의 정답을 예측하는 방식 \n",
    "- 다양한 feature, 분류 결정값인 label 데이터로 모델을 학습\n",
    "- 별도의 dataset에서 미지의 label을 예측\n",
    "\n",
    "<br> </br>\n",
    "\n",
    "\n",
    "### Scikit-Learn\n",
    "- sklearn.datasets  \n",
    "    - 자체적으로 제공하는 datasets\n",
    "- sklearn.tree  \n",
    "    - tree 기반 ML Algorithm 구현한 class모임\n",
    "- sklearn.model_selection \n",
    "    - train data, test data, predict data로 data를 분류 \n",
    "    - 최적의 hyper parameter로 평가하기 위한 다양한 모듈의 모임\n",
    "\n",
    "<br> </br>\n",
    "\n",
    "\n",
    "\n",
    "#### Hyper parameter  \n",
    "- ML Algorithm별로 최적의 학습 위해 직접 입력하는 parameter들 의미\n",
    "- ML Algorithm의 성능 튜닝 가능\n"
   ],
   "metadata": {}
  },
  {
   "cell_type": "code",
   "execution_count": 2,
   "source": [
    "from sklearn.datasets import load_iris\r\n",
    "from sklearn.tree import DecisionTreeClassifier\r\n",
    "from sklearn.model_selection import train_test_split\r\n",
    "import pandas as pd"
   ],
   "outputs": [],
   "metadata": {}
  },
  {
   "cell_type": "code",
   "execution_count": 3,
   "source": [
    "iris=load_iris()"
   ],
   "outputs": [],
   "metadata": {}
  },
  {
   "cell_type": "markdown",
   "source": [
    "### train_test_split(, ,test_size=,random_state=)\n",
    "- 호출 시 무작위로 데이터를 분리\n",
    "\n",
    "- test_size : train / test data 를 test_size의 비율로 분할\n",
    "- random_state : 호출할 때마다 같은 train/test dataset을 생성"
   ],
   "metadata": {}
  },
  {
   "cell_type": "code",
   "execution_count": 4,
   "source": [
    "# Data Split\r\n",
    "X=iris.data\r\n",
    "y=iris.target\r\n",
    "\r\n",
    "X_train,X_test, y_train, y_test=train_test_split(X,y,test_size=0.2, random_state=11)"
   ],
   "outputs": [],
   "metadata": {}
  },
  {
   "cell_type": "markdown",
   "source": [
    "## 학습하기"
   ],
   "metadata": {}
  },
  {
   "cell_type": "code",
   "execution_count": 13,
   "source": [
    "clf=DecisionTreeClassifier()"
   ],
   "outputs": [],
   "metadata": {}
  },
  {
   "cell_type": "code",
   "execution_count": 14,
   "source": [
    "# Modeling\r\n",
    "clf.fit(X_train, y_train)"
   ],
   "outputs": [
    {
     "output_type": "execute_result",
     "data": {
      "text/plain": [
       "DecisionTreeClassifier(class_weight=None, criterion='gini', max_depth=None,\n",
       "                       max_features=None, max_leaf_nodes=None,\n",
       "                       min_impurity_decrease=0.0, min_impurity_split=None,\n",
       "                       min_samples_leaf=1, min_samples_split=2,\n",
       "                       min_weight_fraction_leaf=0.0, presort=False,\n",
       "                       random_state=None, splitter='best')"
      ]
     },
     "metadata": {},
     "execution_count": 14
    }
   ],
   "metadata": {}
  },
  {
   "cell_type": "markdown",
   "source": [
    "## 학습 data기반으로 예측 수행\n",
    "- predict()"
   ],
   "metadata": {}
  },
  {
   "cell_type": "code",
   "execution_count": 16,
   "source": [
    "pred=clf.predict(X_test)"
   ],
   "outputs": [],
   "metadata": {}
  },
  {
   "cell_type": "code",
   "execution_count": 17,
   "source": [
    "from sklearn.metrics import accuracy_score\r\n",
    "accuracy_score(y_test,pred)"
   ],
   "outputs": [
    {
     "output_type": "execute_result",
     "data": {
      "text/plain": [
       "0.9333333333333333"
      ]
     },
     "metadata": {},
     "execution_count": 17
    }
   ],
   "metadata": {}
  }
 ]
}