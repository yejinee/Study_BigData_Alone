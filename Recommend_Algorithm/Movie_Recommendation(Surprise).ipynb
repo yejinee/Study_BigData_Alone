{
 "cells": [
  {
   "cell_type": "markdown",
   "source": [
    "# Surprise Package 이용한 잠재요인 협업 필터링 Example \r\n",
    "- Matrix Factorization 방법으로는 SVD를 사용"
   ],
   "metadata": {}
  },
  {
   "cell_type": "code",
   "execution_count": null,
   "source": [
    "import pandas as pd\r\n",
    "import numpy as np"
   ],
   "outputs": [],
   "metadata": {}
  },
  {
   "cell_type": "code",
   "execution_count": 12,
   "source": [
    "from surprise import SVD\r\n",
    "from surprise import Dataset\r\n",
    "from surprise import accuracy\r\n",
    "from surprise.model_selection import train_test_split"
   ],
   "outputs": [],
   "metadata": {}
  },
  {
   "cell_type": "code",
   "execution_count": 14,
   "source": [
    "data=Dataset.load_builtin('ml-100k')"
   ],
   "outputs": [
    {
     "output_type": "stream",
     "name": "stdout",
     "text": [
      "Dataset ml-100k could not be found. Do you want to download it? [Y/n] "
     ]
    },
    {
     "output_type": "stream",
     "name": "stdout",
     "text": [
      " Y\n"
     ]
    },
    {
     "output_type": "stream",
     "name": "stdout",
     "text": [
      "Trying to download dataset from http://files.grouplens.org/datasets/movielens/ml-100k.zip...\n",
      "Done! Dataset ml-100k has been saved to C:\\Users\\kimjh/.surprise_data/ml-100k\n"
     ]
    }
   ],
   "metadata": {}
  },
  {
   "cell_type": "code",
   "execution_count": 15,
   "source": [
    "trainset,testset=train_test_split(data, test_size=25, random_state=0)"
   ],
   "outputs": [],
   "metadata": {}
  },
  {
   "cell_type": "code",
   "execution_count": 17,
   "source": [
    "trainset"
   ],
   "outputs": [
    {
     "output_type": "execute_result",
     "data": {
      "text/plain": [
       "<surprise.trainset.Trainset at 0x21fc95a7670>"
      ]
     },
     "metadata": {},
     "execution_count": 17
    }
   ],
   "metadata": {}
  },
  {
   "cell_type": "code",
   "execution_count": 16,
   "source": [
    "# SVD로 잠재 요인 협업 필터링 수행 \r\n",
    "algo=SVD()\r\n",
    "algo.fit(trainset)"
   ],
   "outputs": [
    {
     "output_type": "execute_result",
     "data": {
      "text/plain": [
       "<surprise.prediction_algorithms.matrix_factorization.SVD at 0x21fc9a47730>"
      ]
     },
     "metadata": {},
     "execution_count": 16
    }
   ],
   "metadata": {}
  },
  {
   "cell_type": "code",
   "execution_count": 18,
   "source": [
    "# test data set에 대한 추천 \r\n",
    "predictions=algo.test(testset)\r\n",
    "print('prediction type:', type(predictions),'size:', len(predictions))\r\n",
    "print('prediction result')\r\n",
    "predictions[:5]"
   ],
   "outputs": [
    {
     "output_type": "stream",
     "name": "stdout",
     "text": [
      "prediction type: <class 'list'> size: 25\n",
      "prediction result\n"
     ]
    },
    {
     "output_type": "execute_result",
     "data": {
      "text/plain": [
       "[Prediction(uid='917', iid='50', r_ui=3.0, est=4.146928096043336, details={'was_impossible': False}),\n",
       " Prediction(uid='235', iid='318', r_ui=5.0, est=4.58776425066426, details={'was_impossible': False}),\n",
       " Prediction(uid='339', iid='12', r_ui=5.0, est=4.88716228496092, details={'was_impossible': False}),\n",
       " Prediction(uid='878', iid='755', r_ui=2.0, est=3.101174548332699, details={'was_impossible': False}),\n",
       " Prediction(uid='618', iid='56', r_ui=4.0, est=3.0859661843164767, details={'was_impossible': False})]"
      ]
     },
     "metadata": {},
     "execution_count": 18
    }
   ],
   "metadata": {}
  },
  {
   "cell_type": "code",
   "execution_count": 19,
   "source": [
    "# 개별 추천 진행 \r\n",
    "uid=str(196)\r\n",
    "iid=str(302)\r\n",
    "pred=algo.predict(uid,iid)\r\n",
    "print(pred)"
   ],
   "outputs": [
    {
     "output_type": "stream",
     "name": "stdout",
     "text": [
      "user: 196        item: 302        r_ui = None   est = 3.99   {'was_impossible': False}\n"
     ]
    }
   ],
   "metadata": {}
  }
 ],
 "metadata": {
  "interpreter": {
   "hash": "40aad76b6a08bf7c66d35880b5b9359a81633cf2405343e85202dcb9ce476e47"
  },
  "kernelspec": {
   "name": "python3",
   "display_name": "Python 3.8.8 64-bit ('base': conda)"
  },
  "language_info": {
   "codemirror_mode": {
    "name": "ipython",
    "version": 3
   },
   "file_extension": ".py",
   "mimetype": "text/x-python",
   "name": "python",
   "nbconvert_exporter": "python",
   "pygments_lexer": "ipython3",
   "version": "3.8.8"
  }
 },
 "nbformat": 4,
 "nbformat_minor": 4
}