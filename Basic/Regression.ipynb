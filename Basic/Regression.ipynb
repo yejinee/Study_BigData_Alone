{
  "cells": [
    {
      "cell_type": "code",
      "execution_count": null,
      "metadata": {
        "id": "VxF_q_W69Poz"
      },
      "outputs": [],
      "source": [
        "import pandas as pd\n",
        "import matplotlib.pyplot as plt\n",
        "import matplotlib\n",
        "matplotlib.rcParams['axes.unicode_minus'] = False"
      ]
    },
    {
      "cell_type": "code",
      "execution_count": null,
      "metadata": {
        "colab": {
          "base_uri": "https://localhost:8080/"
        },
        "id": "dbAw2MkRbe_Y",
        "outputId": "047e81d0-98f2-482d-c3c6-51c5963fafcd"
      },
      "outputs": [
        {
          "name": "stderr",
          "output_type": "stream",
          "text": [
            "/usr/local/lib/python3.7/dist-packages/statsmodels/tools/_testing.py:19: FutureWarning: pandas.util.testing is deprecated. Use the functions in the public API at pandas.testing instead.\n",
            "  import pandas.util.testing as tm\n"
          ]
        }
      ],
      "source": [
        "from statsmodels.formula.api import ols\n",
        "from sklearn.linear_model import LinearRegression"
      ]
    },
    {
      "cell_type": "code",
      "execution_count": null,
      "metadata": {
        "id": "gj8e2uvN7Kfd"
      },
      "outputs": [],
      "source": [
        "df=pd.read_csv('./data/toluca_company_dataset.csv')"
      ]
    },
    {
      "cell_type": "code",
      "execution_count": null,
      "metadata": {
        "colab": {
          "base_uri": "https://localhost:8080/",
          "height": 203
        },
        "id": "amfOzpJlK3-W",
        "outputId": "b87ccba5-2a32-4d4b-8c60-7af99e3a1939"
      },
      "outputs": [
        {
          "data": {
            "text/html": [
              "<div>\n",
              "<style scoped>\n",
              "    .dataframe tbody tr th:only-of-type {\n",
              "        vertical-align: middle;\n",
              "    }\n",
              "\n",
              "    .dataframe tbody tr th {\n",
              "        vertical-align: top;\n",
              "    }\n",
              "\n",
              "    .dataframe thead th {\n",
              "        text-align: right;\n",
              "    }\n",
              "</style>\n",
              "<table border=\"1\" class=\"dataframe\">\n",
              "  <thead>\n",
              "    <tr style=\"text-align: right;\">\n",
              "      <th></th>\n",
              "      <th>Lot_size</th>\n",
              "      <th>Work_hours</th>\n",
              "    </tr>\n",
              "  </thead>\n",
              "  <tbody>\n",
              "    <tr>\n",
              "      <th>0</th>\n",
              "      <td>80</td>\n",
              "      <td>399</td>\n",
              "    </tr>\n",
              "    <tr>\n",
              "      <th>1</th>\n",
              "      <td>30</td>\n",
              "      <td>121</td>\n",
              "    </tr>\n",
              "    <tr>\n",
              "      <th>2</th>\n",
              "      <td>50</td>\n",
              "      <td>221</td>\n",
              "    </tr>\n",
              "    <tr>\n",
              "      <th>3</th>\n",
              "      <td>90</td>\n",
              "      <td>376</td>\n",
              "    </tr>\n",
              "    <tr>\n",
              "      <th>4</th>\n",
              "      <td>70</td>\n",
              "      <td>361</td>\n",
              "    </tr>\n",
              "  </tbody>\n",
              "</table>\n",
              "</div>"
            ],
            "text/plain": [
              "   Lot_size  Work_hours\n",
              "0        80         399\n",
              "1        30         121\n",
              "2        50         221\n",
              "3        90         376\n",
              "4        70         361"
            ]
          },
          "execution_count": 4,
          "metadata": {
            "tags": []
          },
          "output_type": "execute_result"
        }
      ],
      "source": [
        "df.head()"
      ]
    },
    {
      "cell_type": "markdown",
      "metadata": {
        "id": "WE6vFj9gbWRb"
      },
      "source": [
        "## 데이터의 분포 보기\n",
        "- 회귀분석은 연속형 데이터일때만 가능함\n",
        "- 산점도 통해서 봐보기"
      ]
    },
    {
      "cell_type": "code",
      "execution_count": null,
      "metadata": {
        "colab": {
          "base_uri": "https://localhost:8080/",
          "height": 502
        },
        "id": "aDCP1_t9bcv9",
        "outputId": "33000397-d8f0-4be2-ffe7-05b610bb4a63"
      },
      "outputs": [
        {
          "data": {
            "image/png": "[encoded data removed]",
            "text/plain": [
              "<Figure size 576x576 with 1 Axes>"
            ]
          },
          "metadata": {
            "tags": []
          },
          "output_type": "display_data"
        }
      ],
      "source": [
        "## 시각화\n",
        "fig = plt.figure(figsize=(8,8))\n",
        "fig.set_facecolor('white')\n",
        " \n",
        "font_size = 15\n",
        "plt.scatter(df['Lot_size'],df['Work_hours']) ## 원 데이터 산포도\n",
        " \n",
        "plt.xlabel('Lot Size', fontsize=font_size)\n",
        "plt.ylabel('Work Hours',fontsize=font_size)\n",
        "plt.show()"
      ]
    },
    {
      "cell_type": "markdown",
      "metadata": {
        "id": "jHbaezxbbmG4"
      },
      "source": [
        "### Result\n",
        "- 데이터의 분포가 제품크기가 증가할수록 작업 시간도 증가하는 패턴을 보임\n"
      ]
    },
    {
      "cell_type": "markdown",
      "metadata": {
        "id": "84Ff7Eo0by0y"
      },
      "source": [
        "## 회귀모형 적합시키기 (Statsmodel 사용)\n",
        "- work hours : 반응변수 , lot size: 설명변수 \n",
        "- 회귀모형 적합\n",
        "- statsmodel의 api 사용\n",
        "  - ols(' 반응변수 ~ 설명변수1 + 설명변수2 +....', data=데이터명)fit()\n",
        "  - ols는 기본적으로 절편항도 추정함, 제외하고 싶으면 ' 반응변수 ~ 설명변수1 + 설명변수2 +....-1'해줄 것\n",
        "- summary 함수 이용해서 적합한 결과를 보여줌"
      ]
    },
    {
      "cell_type": "code",
      "execution_count": null,
      "metadata": {
        "id": "EORne-mObxMW"
      },
      "outputs": [],
      "source": [
        "## states model 사용\n",
        "fit = ols('Work_hours ~ Lot_size',data=df).fit() ## 단순선형회귀모형 적합"
      ]
    },
    {
      "cell_type": "code",
      "execution_count": null,
      "metadata": {
        "colab": {
          "base_uri": "https://localhost:8080/",
          "height": 432
        },
        "id": "YSTd8O3Pbw36",
        "outputId": "392ac1d5-1cce-4114-87a7-9dc99a280e91"
      },
      "outputs": [
        {
          "data": {
            "text/html": [
              "<table class=\"simpletable\">\n",
              "<caption>OLS Regression Results</caption>\n",
              "<tr>\n",
              "  <th>Dep. Variable:</th>       <td>Work_hours</td>    <th>  R-squared:         </th> <td>   0.822</td>\n",
              "</tr>\n",
              "<tr>\n",
              "  <th>Model:</th>                   <td>OLS</td>       <th>  Adj. R-squared:    </th> <td>   0.814</td>\n",
              "</tr>\n",
              "<tr>\n",
              "  <th>Method:</th>             <td>Least Squares</td>  <th>  F-statistic:       </th> <td>   105.9</td>\n",
              "</tr>\n",
              "<tr>\n",
              "  <th>Date:</th>             <td>Sun, 04 Jul 2021</td> <th>  Prob (F-statistic):</th> <td>4.45e-10</td>\n",
              "</tr>\n",
              "<tr>\n",
              "  <th>Time:</th>                 <td>07:35:49</td>     <th>  Log-Likelihood:    </th> <td> -131.64</td>\n",
              "</tr>\n",
              "<tr>\n",
              "  <th>No. Observations:</th>      <td>    25</td>      <th>  AIC:               </th> <td>   267.3</td>\n",
              "</tr>\n",
              "<tr>\n",
              "  <th>Df Residuals:</th>          <td>    23</td>      <th>  BIC:               </th> <td>   269.7</td>\n",
              "</tr>\n",
              "<tr>\n",
              "  <th>Df Model:</th>              <td>     1</td>      <th>                     </th>     <td> </td>   \n",
              "</tr>\n",
              "<tr>\n",
              "  <th>Covariance Type:</th>      <td>nonrobust</td>    <th>                     </th>     <td> </td>   \n",
              "</tr>\n",
              "</table>\n",
              "<table class=\"simpletable\">\n",
              "<tr>\n",
              "      <td></td>         <th>coef</th>     <th>std err</th>      <th>t</th>      <th>P>|t|</th>  <th>[0.025</th>    <th>0.975]</th>  \n",
              "</tr>\n",
              "<tr>\n",
              "  <th>Intercept</th> <td>   62.3659</td> <td>   26.177</td> <td>    2.382</td> <td> 0.026</td> <td>    8.214</td> <td>  116.518</td>\n",
              "</tr>\n",
              "<tr>\n",
              "  <th>Lot_size</th>  <td>    3.5702</td> <td>    0.347</td> <td>   10.290</td> <td> 0.000</td> <td>    2.852</td> <td>    4.288</td>\n",
              "</tr>\n",
              "</table>\n",
              "<table class=\"simpletable\">\n",
              "<tr>\n",
              "  <th>Omnibus:</th>       <td> 0.608</td> <th>  Durbin-Watson:     </th> <td>   1.432</td>\n",
              "</tr>\n",
              "<tr>\n",
              "  <th>Prob(Omnibus):</th> <td> 0.738</td> <th>  Jarque-Bera (JB):  </th> <td>   0.684</td>\n",
              "</tr>\n",
              "<tr>\n",
              "  <th>Skew:</th>          <td> 0.298</td> <th>  Prob(JB):          </th> <td>   0.710</td>\n",
              "</tr>\n",
              "<tr>\n",
              "  <th>Kurtosis:</th>      <td> 2.450</td> <th>  Cond. No.          </th> <td>    202.</td>\n",
              "</tr>\n",
              "</table><br/><br/>Warnings:<br/>[1] Standard Errors assume that the covariance matrix of the errors is correctly specified."
            ],
            "text/plain": [
              "<class 'statsmodels.iolib.summary.Summary'>\n",
              "\"\"\"\n",
              "                            OLS Regression Results                            \n",
              "==============================================================================\n",
              "Dep. Variable:             Work_hours   R-squared:                       0.822\n",
              "Model:                            OLS   Adj. R-squared:                  0.814\n",
              "Method:                 Least Squares   F-statistic:                     105.9\n",
              "Date:                Sun, 04 Jul 2021   Prob (F-statistic):           4.45e-10\n",
              "Time:                        07:35:49   Log-Likelihood:                -131.64\n",
              "No. Observations:                  25   AIC:                             267.3\n",
              "Df Residuals:                      23   BIC:                             269.7\n",
              "Df Model:                           1                                         \n",
              "Covariance Type:            nonrobust                                         \n",
              "==============================================================================\n",
              "                 coef    std err          t      P>|t|      [0.025      0.975]\n",
              "------------------------------------------------------------------------------\n",
              "Intercept     62.3659     26.177      2.382      0.026       8.214     116.518\n",
              "Lot_size       3.5702      0.347     10.290      0.000       2.852       4.288\n",
              "==============================================================================\n",
              "Omnibus:                        0.608   Durbin-Watson:                   1.432\n",
              "Prob(Omnibus):                  0.738   Jarque-Bera (JB):                0.684\n",
              "Skew:                           0.298   Prob(JB):                        0.710\n",
              "Kurtosis:                       2.450   Cond. No.                         202.\n",
              "==============================================================================\n",
              "\n",
              "Warnings:\n",
              "[1] Standard Errors assume that the covariance matrix of the errors is correctly specified.\n",
              "\"\"\""
            ]
          },
          "execution_count": 8,
          "metadata": {
            "tags": []
          },
          "output_type": "execute_result"
        }
      ],
      "source": [
        "fit.summary()"
      ]
    },
    {
      "cell_type": "markdown",
      "metadata": {
        "id": "ZorrqAPLd9al"
      },
      "source": [
        "## Result\n",
        "1. R-squared=0.822 로 회귀모형의 설명력이 82.2%가 된다는 것임\n",
        "2. F값 = 105.9, 이때의 유의확률은(Pr >F) =0.000으로 통계적으로 유의한 모형임\n",
        "3. Intercept의 t값이 0.382, P>|t|=0.025 이므로 회귀모형의 절편값은 유의하다\n",
        "  또한, 그 값은 62.3659로 나타남\n",
        "4. 'lot size'의 t값은 10.290, P>|t|=0.000이므로 lot_size변수도 유의하므로 lot_size의 계수는 3.5702으로 도출.  \n",
        "#### 따라서, 이 회귀 모형의 식은  y(i)=62.3659+3.5702 * 'lot_size'\n",
        "- 사이즈가 1만큼 증가할수록 work_hours는 3.5702만큼 증가한다. \n",
        "- 사이즈 증가가 일하는 시간에 많은 영향을 미친다는 것을 알았음 대안 필요\n",
        "\n",
        "\n",
        "\n",
        "\n",
        "## 회귀모형 결과 해석 방법\n",
        "1. 결정계수 확인 (R-squared)\n",
        "2. 모형의 적합도 확인 (F값, p-value)\n",
        "3. 회귀 계수 확인\n",
        "  - Intercept(절편)은 모든 독립변수가 0일 때 예측되는 값 말함\n",
        "4. t값과 t값의 유의확률 확인"
      ]
    },
    {
      "cell_type": "markdown",
      "metadata": {
        "id": "_nWoILNadHtm"
      },
      "source": [
        "## 모델 적합 (Sklearn)\n",
        "- LinearRegression class의 fit메서드 이용\n",
        "- 설명변수의 차원을 하나 증가시켜야함"
      ]
    },
    {
      "cell_type": "code",
      "execution_count": null,
      "metadata": {
        "colab": {
          "base_uri": "https://localhost:8080/"
        },
        "id": "AYcPCXzEceB7",
        "outputId": "0f14b546-3ec8-4dcb-f702-3ee5688dc264"
      },
      "outputs": [
        {
          "data": {
            "text/plain": [
              "array([[ 80],\n",
              "       [ 30],\n",
              "       [ 50],\n",
              "       [ 90],\n",
              "       [ 70],\n",
              "       [ 60],\n",
              "       [120],\n",
              "       [ 80],\n",
              "       [100],\n",
              "       [ 50],\n",
              "       [ 40],\n",
              "       [ 70],\n",
              "       [ 90],\n",
              "       [ 20],\n",
              "       [110],\n",
              "       [100],\n",
              "       [ 30],\n",
              "       [ 50],\n",
              "       [ 90],\n",
              "       [110],\n",
              "       [ 30],\n",
              "       [ 90],\n",
              "       [ 40],\n",
              "       [ 80],\n",
              "       [ 70]])"
            ]
          },
          "execution_count": 9,
          "metadata": {
            "tags": []
          },
          "output_type": "execute_result"
        }
      ],
      "source": [
        "x=df['Lot_size'].values.reshape(-1,1)\n",
        "x"
      ]
    },
    {
      "cell_type": "code",
      "execution_count": null,
      "metadata": {
        "id": "x2jN2En7dY0d"
      },
      "outputs": [],
      "source": [
        "y=df['Work_hours']"
      ]
    },
    {
      "cell_type": "code",
      "execution_count": null,
      "metadata": {
        "id": "5G7ZypH5dft6"
      },
      "outputs": [],
      "source": [
        "fit=LinearRegression().fit(x,y) #단순선형회귀모형 적합"
      ]
    },
    {
      "cell_type": "code",
      "execution_count": null,
      "metadata": {
        "colab": {
          "base_uri": "https://localhost:8080/"
        },
        "id": "8JNqn025dlwk",
        "outputId": "10f008ad-c951-47ca-ef67-20c888f50e55"
      },
      "outputs": [
        {
          "data": {
            "text/plain": [
              "62.36585858585849"
            ]
          },
          "execution_count": 12,
          "metadata": {
            "tags": []
          },
          "output_type": "execute_result"
        }
      ],
      "source": [
        "# 추정값 보기\n",
        "fit.intercept_ # 절편"
      ]
    },
    {
      "cell_type": "code",
      "execution_count": null,
      "metadata": {
        "colab": {
          "base_uri": "https://localhost:8080/"
        },
        "id": "gqL6O1vJdpxq",
        "outputId": "ef6c0f5d-2f8c-4caf-f7d8-98b1862fe8f8"
      },
      "outputs": [
        {
          "data": {
            "text/plain": [
              "array([3.57020202])"
            ]
          },
          "execution_count": 13,
          "metadata": {
            "tags": []
          },
          "output_type": "execute_result"
        }
      ],
      "source": [
        "# 기울기\n",
        "fit.coef_"
      ]
    }
  ],
  "metadata": {
    "colab": {
      "collapsed_sections": [],
      "name": "Regression.ipynb",
      "provenance": []
    },
    "interpreter": {
      "hash": "a8a43a9a5ee502f0e473fdce8198fcd34e49c50bf095bba8698ce97933ecaf60"
    },
    "kernelspec": {
      "display_name": "Python 3.8.10 64-bit ('yejin': conda)",
      "name": "python3"
    },
    "language_info": {
      "name": "python",
      "version": ""
    }
  },
  "nbformat": 4,
  "nbformat_minor": 0
}