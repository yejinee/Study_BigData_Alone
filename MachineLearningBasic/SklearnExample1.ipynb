{
 "metadata": {
  "language_info": {
   "codemirror_mode": {
    "name": "ipython",
    "version": 3
   },
   "file_extension": ".py",
   "mimetype": "text/x-python",
   "name": "python",
   "nbconvert_exporter": "python",
   "pygments_lexer": "ipython3",
   "version": "3.7.4"
  },
  "orig_nbformat": 4,
  "kernelspec": {
   "name": "python3",
   "display_name": "Python 3.7.4 64-bit ('base': conda)"
  },
  "interpreter": {
   "hash": "aad7fa43305c5ed1fb127d263f3083b3588cd5af60f171b45496a79879bf8414"
  }
 },
 "nbformat": 4,
 "nbformat_minor": 2,
 "cells": [
  {
   "source": [
    "# Scikit-Learn Example 1 \n",
    "## iris 품종 Classification"
   ],
   "cell_type": "markdown",
   "metadata": {}
  },
  {
   "source": [
    "### Classification\n",
    "- 지도학습 (Supervised Learning )\n",
    "\n",
    "<br> </br>\n",
    "\n",
    "\n",
    "### 지도학습\n",
    "- 명확한 정답이 주어진 데이터를 먼저 학습한 뒤 미지의 정답을 예측하는 방식 \n",
    "- 다양한 feature, 분류 결정값인 label 데이터로 모델을 학습\n",
    "- 별도의 dataset에서 미지의 label을 예측\n",
    "\n",
    "<br> </br>\n",
    "\n",
    "\n",
    "### Scikit-Learn\n",
    "- sklearn.datasets  \n",
    "    - 자체적으로 제공하는 datasets\n",
    "- sklearn.tree  \n",
    "    - tree 기반 ML Algorithm 구현한 class모임\n",
    "- sklearn.model_selection \n",
    "    - train data, test data, predict data로 data를 분류 \n",
    "    - 최적의 hyper parameter로 평가하기 위한 다양한 모듈의 모임\n",
    "\n",
    "<br> </br>\n",
    "\n",
    "\n",
    "\n",
    "#### Hyper parameter  \n",
    "- ML Algorithm별로 최적의 학습 위해 직접 입력하는 parameter들 의미\n",
    "- ML Algorithm의 성능 튜닝 가능\n"
   ],
   "cell_type": "markdown",
   "metadata": {}
  },
  {
   "cell_type": "code",
   "execution_count": 2,
   "metadata": {},
   "outputs": [],
   "source": [
    "from sklearn.datasets import load_iris\n",
    "from sklearn.tree import DecisionTreeClassifier\n",
    "from sklearn.model_selection import train_test_split\n",
    "import pandas as pd"
   ]
  },
  {
   "cell_type": "code",
   "execution_count": 3,
   "metadata": {},
   "outputs": [],
   "source": [
    "iris=load_iris()"
   ]
  },
  {
   "source": [
    "### train_test_split(, ,test_size=,random_state=)\n",
    "- 호출 시 무작위로 데이터를 분리\n",
    "\n",
    "- test_size : train / test data 를 test_size의 비율로 분할\n",
    "- random_state : 호출할 때마다 같은 train/test dataset을 생성"
   ],
   "cell_type": "markdown",
   "metadata": {}
  },
  {
   "cell_type": "code",
   "execution_count": 4,
   "metadata": {},
   "outputs": [],
   "source": [
    "# Data Split\n",
    "X=iris.data\n",
    "y=iris.target\n",
    "\n",
    "X_train,X_test, y_train, y_test=train_test_split(X,y,test_size=0.2, random_state=11)"
   ]
  },
  {
   "source": [
    "## 학습하기"
   ],
   "cell_type": "markdown",
   "metadata": {}
  },
  {
   "cell_type": "code",
   "execution_count": 13,
   "metadata": {},
   "outputs": [],
   "source": [
    "clf=DecisionTreeClassifier()"
   ]
  },
  {
   "cell_type": "code",
   "execution_count": 14,
   "metadata": {},
   "outputs": [
    {
     "output_type": "execute_result",
     "data": {
      "text/plain": [
       "DecisionTreeClassifier(class_weight=None, criterion='gini', max_depth=None,\n",
       "                       max_features=None, max_leaf_nodes=None,\n",
       "                       min_impurity_decrease=0.0, min_impurity_split=None,\n",
       "                       min_samples_leaf=1, min_samples_split=2,\n",
       "                       min_weight_fraction_leaf=0.0, presort=False,\n",
       "                       random_state=None, splitter='best')"
      ]
     },
     "metadata": {},
     "execution_count": 14
    }
   ],
   "source": [
    "# Modeling\n",
    "clf.fit(X_train, y_train)"
   ]
  },
  {
   "source": [
    "## 학습 data기반으로 예측 수행\n",
    "- predict()"
   ],
   "cell_type": "markdown",
   "metadata": {}
  },
  {
   "cell_type": "code",
   "execution_count": 16,
   "metadata": {},
   "outputs": [],
   "source": [
    "pred=clf.predict(X_test)"
   ]
  },
  {
   "cell_type": "code",
   "execution_count": 17,
   "metadata": {},
   "outputs": [
    {
     "output_type": "execute_result",
     "data": {
      "text/plain": [
       "0.9333333333333333"
      ]
     },
     "metadata": {},
     "execution_count": 17
    }
   ],
   "source": [
    "from sklearn.metrics import accuracy_score\n",
    "accuracy_score(y_test,pred)"
   ]
  }
 ]
}