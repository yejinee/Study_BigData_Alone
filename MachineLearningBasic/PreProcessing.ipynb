{
 "metadata": {
  "language_info": {
   "codemirror_mode": {
    "name": "ipython",
    "version": 3
   },
   "file_extension": ".py",
   "mimetype": "text/x-python",
   "name": "python",
   "nbconvert_exporter": "python",
   "pygments_lexer": "ipython3",
   "version": "3.7.4"
  },
  "orig_nbformat": 4,
  "kernelspec": {
   "name": "python3",
   "display_name": "Python 3.7.4 64-bit ('base': conda)"
  },
  "interpreter": {
   "hash": "aad7fa43305c5ed1fb127d263f3083b3588cd5af60f171b45496a79879bf8414"
  }
 },
 "nbformat": 4,
 "nbformat_minor": 2,
 "cells": [
  {
   "source": [
    "# Data Preprocessing\n",
    "## 1. 결손값, NaN, Null값 처리\n",
    "- feature 값 중 null값이 얼마 되지 않는 경우 \n",
    "    - mean값 등으로 처리\n",
    "- Null값이 대부분인 경우  \n",
    "    - feature drop하는 것이 더 나음 \n",
    "- null값이 일정 수준 이상인 경우   \n",
    "    - feature의 중요도에 따라 결정  \n",
    "    - 업무 로직에 따라서 정밀한 대체값 결정 (그냥 평균으로 하면 왜곡 심해질 수 있음)  \n",
    "\n",
    "\n",
    "\n",
    "## 2. 문자열값 처리해주기\n",
    "- 문자열을 입력 값으로 허용하지 X\n",
    "- 모든 문자열 값을 encoding해서 숫자형으로 변환\n",
    "- 종류\n",
    "    - 카테고리형 feature\n",
    "        - feature 벡터화 기법을 통해 벡터화\n",
    "        - 불필요한 feature면 drop\n",
    "    - text형 feature\n",
    "\n"
   ],
   "cell_type": "markdown",
   "metadata": {}
  },
  {
   "source": [
    "## Data Encoding\n",
    "### 1) Label Encoding\n",
    "- category feature을 코드형 숫자 값으로 변환\n",
    "- LabelEncoder class이용\n",
    "- 문자열이 어떤값으로 Encoding된건 지 알기 위해 classes_ 속성값 이용\n",
    "- Encoding된 값을 다시 Decoding 하려면 inverse_transform() 사용\n",
    "- Ex) Tv : 0 , 냉장고 :1 , 선풍기 :2로 할당 \n",
    "\n",
    "\n",
    "#### 특징\n",
    "- ML Algorithm에 적용할 경우 예측 성능 저하\n",
    "    - 숫자 값이 크고 작음에 대한 특성이 작용하기 때문\n",
    "    - 숫자 값이 더 큰 경우에 ML에서 가중치를 부여함\n",
    "    - Label Encoding은 선형 회귀와 같은 algorithm에는 적용하지 X\n",
    "    - Tree 계열의 ML algorithm에서는 사용가능\n",
    "     \n",
    "\n",
    "\n",
    "\n",
    "#### 순서\n",
    "1. LabelEncoder을 객체로 생성\n",
    "2. fit(), transform()으로 label Encoding 수행"
   ],
   "cell_type": "markdown",
   "metadata": {}
  },
  {
   "cell_type": "code",
   "execution_count": 8,
   "metadata": {},
   "outputs": [],
   "source": [
    "from sklearn.preprocessing import LabelEncoder"
   ]
  },
  {
   "cell_type": "code",
   "execution_count": 2,
   "metadata": {},
   "outputs": [],
   "source": [
    "items=['TV','냉장고','전자렌지','컴터','선풍기','선풍기','믹서','믹서']"
   ]
  },
  {
   "cell_type": "code",
   "execution_count": 4,
   "metadata": {},
   "outputs": [],
   "source": [
    "encoder=LabelEncoder()\n",
    "encoder.fit(items)\n",
    "labels=encoder.transform(items)"
   ]
  },
  {
   "cell_type": "code",
   "execution_count": 5,
   "metadata": {},
   "outputs": [
    {
     "output_type": "execute_result",
     "data": {
      "text/plain": [
       "array([0, 1, 4, 5, 3, 3, 2, 2], dtype=int64)"
      ]
     },
     "metadata": {},
     "execution_count": 5
    }
   ],
   "source": [
    "labels"
   ]
  },
  {
   "cell_type": "code",
   "execution_count": 9,
   "metadata": {},
   "outputs": [
    {
     "output_type": "execute_result",
     "data": {
      "text/plain": [
       "array(['TV', '냉장고', '믹서', '선풍기', '전자렌지', '컴터'], dtype='<U4')"
      ]
     },
     "metadata": {},
     "execution_count": 9
    }
   ],
   "source": [
    "encoder.classes_"
   ]
  },
  {
   "cell_type": "code",
   "execution_count": 11,
   "metadata": {},
   "outputs": [
    {
     "output_type": "execute_result",
     "data": {
      "text/plain": [
       "array(['전자렌지', '컴터', '믹서', 'TV'], dtype='<U4')"
      ]
     },
     "metadata": {},
     "execution_count": 11
    }
   ],
   "source": [
    "#Encoding된 값을 다시 Decoding \n",
    "encoder.inverse_transform([4,5,2,0])"
   ]
  },
  {
   "source": [
    "## 2) One - Hot Encoding \n",
    "- 값의 유형에 따라 새로운 feature 추가\n",
    "- 고유값에 해당하는 column에만 1을 표시, 나머지는 0\n",
    "- 모든 문자열의 값이 숫자형으로 이미 변환되어 있어야지 사용 가능 \n",
    "- 입력값으로 2차원 data가 필요"
   ],
   "cell_type": "markdown",
   "metadata": {}
  },
  {
   "cell_type": "code",
   "execution_count": 13,
   "metadata": {},
   "outputs": [],
   "source": [
    "from sklearn.preprocessing import OneHotEncoder\n",
    "import numpy as np"
   ]
  },
  {
   "cell_type": "code",
   "execution_count": 14,
   "metadata": {},
   "outputs": [],
   "source": [
    "items=['TV','냉장고','전자렌지','컴터','선풍기','선풍기','믹서','믹서']"
   ]
  },
  {
   "cell_type": "code",
   "execution_count": null,
   "metadata": {},
   "outputs": [],
   "source": []
  }
 ]
}