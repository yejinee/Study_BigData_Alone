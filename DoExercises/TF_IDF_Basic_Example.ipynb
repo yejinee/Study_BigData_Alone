{
  "nbformat": 4,
  "nbformat_minor": 0,
  "metadata": {
    "colab": {
      "name": "TF_IDF.ipynb",
      "provenance": [],
      "collapsed_sections": []
    },
    "kernelspec": {
      "name": "python3",
      "display_name": "Python 3"
    },
    "language_info": {
      "name": "python"
    }
  },
  "cells": [
    {
      "cell_type": "markdown",
      "metadata": {
        "id": "7jgi5qYxArhB"
      },
      "source": [
        "# TF - IDF Algorithm"
      ]
    },
    {
      "cell_type": "markdown",
      "metadata": {
        "id": "VI71xUMHFATt"
      },
      "source": [
        "## CountVectorizer 사용해 추천"
      ]
    },
    {
      "cell_type": "code",
      "metadata": {
        "id": "P1IgpWdIAuRp"
      },
      "source": [
        "docs=[\n",
        "      \"먹고 싶은 사과\", # 문서 0\n",
        "      \"먹고 싶은 바나나\", # 문서 1\n",
        "      \"길고 노란 바나나 바나나\", # 문서 2\n",
        "      \"저는 과일이 좋아요\" # 문서 3\n",
        "      ]"
      ],
      "execution_count": 1,
      "outputs": []
    },
    {
      "cell_type": "code",
      "metadata": {
        "id": "u3SPv2aDA8JK"
      },
      "source": [
        "from sklearn.feature_extraction.text import CountVectorizer\n",
        "vect= CountVectorizer() # Counter Vectorizer 객체 생성"
      ],
      "execution_count": 2,
      "outputs": []
    },
    {
      "cell_type": "code",
      "metadata": {
        "colab": {
          "base_uri": "https://localhost:8080/"
        },
        "id": "fwH_tf7uBGdh",
        "outputId": "ff13512e-de4c-4c01-a765-bbbd0ec22d3e"
      },
      "source": [
        "# 문장을 counter vectorizer 형태로 변형\n",
        "countvect= vect.fit_transform(docs)\n",
        "countvect # 4*9의 sparse matrix볼 수 있음 : 4개의 문서에 9개의 단어 "
      ],
      "execution_count": 4,
      "outputs": [
        {
          "output_type": "execute_result",
          "data": {
            "text/plain": [
              "<4x9 sparse matrix of type '<class 'numpy.int64'>'\n",
              "\twith 12 stored elements in Compressed Sparse Row format>"
            ]
          },
          "metadata": {
            "tags": []
          },
          "execution_count": 4
        }
      ]
    },
    {
      "cell_type": "code",
      "metadata": {
        "colab": {
          "base_uri": "https://localhost:8080/"
        },
        "id": "d0GIV05LCjBR",
        "outputId": "2ee18ef7-0052-425f-d492-d22ced535756"
      },
      "source": [
        "# toarray()통해 문장이 vector형태의 값을 얻을 수 있음 \n",
        "# sparse matrix -> numpy형태로 만들어줌 \n",
        "countvect.toarray()"
      ],
      "execution_count": 5,
      "outputs": [
        {
          "output_type": "execute_result",
          "data": {
            "text/plain": [
              "array([[0, 0, 0, 1, 0, 1, 1, 0, 0],\n",
              "       [0, 0, 0, 1, 1, 0, 1, 0, 0],\n",
              "       [0, 1, 1, 0, 2, 0, 0, 0, 0],\n",
              "       [1, 0, 0, 0, 0, 0, 0, 1, 1]])"
            ]
          },
          "metadata": {
            "tags": []
          },
          "execution_count": 5
        }
      ]
    },
    {
      "cell_type": "code",
      "metadata": {
        "colab": {
          "base_uri": "https://localhost:8080/"
        },
        "id": "fkDLQTmeDWFy",
        "outputId": "ceda3e96-6c8f-4177-c051-e32ed838474f"
      },
      "source": [
        "# 하지만, 각 index , column이 무엇을 의미하는지에 대해 알 수 X\n",
        "# 각 값에 대한 정보 나옴 \n",
        "vect.vocabulary_"
      ],
      "execution_count": 6,
      "outputs": [
        {
          "output_type": "execute_result",
          "data": {
            "text/plain": [
              "{'과일이': 0,\n",
              " '길고': 1,\n",
              " '노란': 2,\n",
              " '먹고': 3,\n",
              " '바나나': 4,\n",
              " '사과': 5,\n",
              " '싶은': 6,\n",
              " '저는': 7,\n",
              " '좋아요': 8}"
            ]
          },
          "metadata": {
            "tags": []
          },
          "execution_count": 6
        }
      ]
    },
    {
      "cell_type": "code",
      "metadata": {
        "colab": {
          "base_uri": "https://localhost:8080/"
        },
        "id": "WV8QGnZLDnsQ",
        "outputId": "208e83b6-a5b3-48d7-83f4-88b95db82d75"
      },
      "source": [
        "# sorted 함수 통해 단어 정렬 \n",
        "sorted(vect.vocabulary_)"
      ],
      "execution_count": 7,
      "outputs": [
        {
          "output_type": "execute_result",
          "data": {
            "text/plain": [
              "['과일이', '길고', '노란', '먹고', '바나나', '사과', '싶은', '저는', '좋아요']"
            ]
          },
          "metadata": {
            "tags": []
          },
          "execution_count": 7
        }
      ]
    },
    {
      "cell_type": "code",
      "metadata": {
        "colab": {
          "base_uri": "https://localhost:8080/",
          "height": 172
        },
        "id": "UTkxl1moD1qY",
        "outputId": "763dde7a-356c-4cb3-8308-686d9354d647"
      },
      "source": [
        "# 이를 가지고 DataFrame 만들어 주기\n",
        "import pandas as pd\n",
        "countvect_df= pd.DataFrame(countvect.toarray(), columns= sorted(vect.vocabulary_))\n",
        "countvect_df.index=['문서0','문서1', '문서2','문서3']\n",
        "countvect_df"
      ],
      "execution_count": 8,
      "outputs": [
        {
          "output_type": "execute_result",
          "data": {
            "text/html": [
              "<div>\n",
              "<style scoped>\n",
              "    .dataframe tbody tr th:only-of-type {\n",
              "        vertical-align: middle;\n",
              "    }\n",
              "\n",
              "    .dataframe tbody tr th {\n",
              "        vertical-align: top;\n",
              "    }\n",
              "\n",
              "    .dataframe thead th {\n",
              "        text-align: right;\n",
              "    }\n",
              "</style>\n",
              "<table border=\"1\" class=\"dataframe\">\n",
              "  <thead>\n",
              "    <tr style=\"text-align: right;\">\n",
              "      <th></th>\n",
              "      <th>과일이</th>\n",
              "      <th>길고</th>\n",
              "      <th>노란</th>\n",
              "      <th>먹고</th>\n",
              "      <th>바나나</th>\n",
              "      <th>사과</th>\n",
              "      <th>싶은</th>\n",
              "      <th>저는</th>\n",
              "      <th>좋아요</th>\n",
              "    </tr>\n",
              "  </thead>\n",
              "  <tbody>\n",
              "    <tr>\n",
              "      <th>문서0</th>\n",
              "      <td>0</td>\n",
              "      <td>0</td>\n",
              "      <td>0</td>\n",
              "      <td>1</td>\n",
              "      <td>0</td>\n",
              "      <td>1</td>\n",
              "      <td>1</td>\n",
              "      <td>0</td>\n",
              "      <td>0</td>\n",
              "    </tr>\n",
              "    <tr>\n",
              "      <th>문서1</th>\n",
              "      <td>0</td>\n",
              "      <td>0</td>\n",
              "      <td>0</td>\n",
              "      <td>1</td>\n",
              "      <td>1</td>\n",
              "      <td>0</td>\n",
              "      <td>1</td>\n",
              "      <td>0</td>\n",
              "      <td>0</td>\n",
              "    </tr>\n",
              "    <tr>\n",
              "      <th>문서2</th>\n",
              "      <td>0</td>\n",
              "      <td>1</td>\n",
              "      <td>1</td>\n",
              "      <td>0</td>\n",
              "      <td>2</td>\n",
              "      <td>0</td>\n",
              "      <td>0</td>\n",
              "      <td>0</td>\n",
              "      <td>0</td>\n",
              "    </tr>\n",
              "    <tr>\n",
              "      <th>문서3</th>\n",
              "      <td>1</td>\n",
              "      <td>0</td>\n",
              "      <td>0</td>\n",
              "      <td>0</td>\n",
              "      <td>0</td>\n",
              "      <td>0</td>\n",
              "      <td>0</td>\n",
              "      <td>1</td>\n",
              "      <td>1</td>\n",
              "    </tr>\n",
              "  </tbody>\n",
              "</table>\n",
              "</div>"
            ],
            "text/plain": [
              "     과일이  길고  노란  먹고  바나나  사과  싶은  저는  좋아요\n",
              "문서0    0   0   0   1    0   1   1   0    0\n",
              "문서1    0   0   0   1    1   0   1   0    0\n",
              "문서2    0   1   1   0    2   0   0   0    0\n",
              "문서3    1   0   0   0    0   0   0   1    1"
            ]
          },
          "metadata": {
            "tags": []
          },
          "execution_count": 8
        }
      ]
    },
    {
      "cell_type": "code",
      "metadata": {
        "colab": {
          "base_uri": "https://localhost:8080/"
        },
        "id": "J-I5WBrWENYx",
        "outputId": "0bc7affa-50c6-4332-ec00-20c00e2e7315"
      },
      "source": [
        "# 위의 Data Frame 형태의 코사인 유사도 계산 \n",
        "from sklearn.metrics.pairwise import cosine_similarity\n",
        "cosine_similarity(countvect_df, countvect_df)"
      ],
      "execution_count": 9,
      "outputs": [
        {
          "output_type": "execute_result",
          "data": {
            "text/plain": [
              "array([[1.        , 0.66666667, 0.        , 0.        ],\n",
              "       [0.66666667, 1.        , 0.47140452, 0.        ],\n",
              "       [0.        , 0.47140452, 1.        , 0.        ],\n",
              "       [0.        , 0.        , 0.        , 1.        ]])"
            ]
          },
          "metadata": {
            "tags": []
          },
          "execution_count": 9
        }
      ]
    },
    {
      "cell_type": "markdown",
      "metadata": {
        "id": "2S_0oOc6ErUC"
      },
      "source": [
        "## Result\n",
        "- 문서 0 & 문서 1 유사함\n",
        "- 문서 1 & 문서 2 유사함 \n",
        "\n",
        "- 추천의 경우 문서 0을 본 사람에게 문서 1을 추천해줌"
      ]
    },
    {
      "cell_type": "code",
      "metadata": {
        "id": "VtLdkpyfEphL"
      },
      "source": [
        ""
      ],
      "execution_count": null,
      "outputs": []
    },
    {
      "cell_type": "markdown",
      "metadata": {
        "id": "Eh8UDk9NE_nA"
      },
      "source": [
        "## TF-IDF 사용해 추천\n"
      ]
    },
    {
      "cell_type": "code",
      "metadata": {
        "id": "eXdFbPtGFJv2"
      },
      "source": [
        "# Tfid\n",
        "from sklearn.feature_extraction.text import TfidfVectorizer\n",
        "vect=TfidfVectorizer()\n",
        "tfvect=vect.fit(docs)"
      ],
      "execution_count": 10,
      "outputs": []
    },
    {
      "cell_type": "code",
      "metadata": {
        "colab": {
          "base_uri": "https://localhost:8080/",
          "height": 172
        },
        "id": "BcLQDXmjFWnn",
        "outputId": "1cecd6e4-cbad-4a26-d5d1-9636621abcca"
      },
      "source": [
        "tfidv_df = pd.DataFrame(tfvect.transform(docs).toarray() , columns= sorted(vect.vocabulary_))\n",
        "tfidv_df.index=['문서1', '문서2','문서3','문서4']\n",
        "tfidv_df"
      ],
      "execution_count": 11,
      "outputs": [
        {
          "output_type": "execute_result",
          "data": {
            "text/html": [
              "<div>\n",
              "<style scoped>\n",
              "    .dataframe tbody tr th:only-of-type {\n",
              "        vertical-align: middle;\n",
              "    }\n",
              "\n",
              "    .dataframe tbody tr th {\n",
              "        vertical-align: top;\n",
              "    }\n",
              "\n",
              "    .dataframe thead th {\n",
              "        text-align: right;\n",
              "    }\n",
              "</style>\n",
              "<table border=\"1\" class=\"dataframe\">\n",
              "  <thead>\n",
              "    <tr style=\"text-align: right;\">\n",
              "      <th></th>\n",
              "      <th>과일이</th>\n",
              "      <th>길고</th>\n",
              "      <th>노란</th>\n",
              "      <th>먹고</th>\n",
              "      <th>바나나</th>\n",
              "      <th>사과</th>\n",
              "      <th>싶은</th>\n",
              "      <th>저는</th>\n",
              "      <th>좋아요</th>\n",
              "    </tr>\n",
              "  </thead>\n",
              "  <tbody>\n",
              "    <tr>\n",
              "      <th>문서1</th>\n",
              "      <td>0.00000</td>\n",
              "      <td>0.00000</td>\n",
              "      <td>0.00000</td>\n",
              "      <td>0.526405</td>\n",
              "      <td>0.00000</td>\n",
              "      <td>0.667679</td>\n",
              "      <td>0.526405</td>\n",
              "      <td>0.00000</td>\n",
              "      <td>0.00000</td>\n",
              "    </tr>\n",
              "    <tr>\n",
              "      <th>문서2</th>\n",
              "      <td>0.00000</td>\n",
              "      <td>0.00000</td>\n",
              "      <td>0.00000</td>\n",
              "      <td>0.577350</td>\n",
              "      <td>0.57735</td>\n",
              "      <td>0.000000</td>\n",
              "      <td>0.577350</td>\n",
              "      <td>0.00000</td>\n",
              "      <td>0.00000</td>\n",
              "    </tr>\n",
              "    <tr>\n",
              "      <th>문서3</th>\n",
              "      <td>0.00000</td>\n",
              "      <td>0.47212</td>\n",
              "      <td>0.47212</td>\n",
              "      <td>0.000000</td>\n",
              "      <td>0.74445</td>\n",
              "      <td>0.000000</td>\n",
              "      <td>0.000000</td>\n",
              "      <td>0.00000</td>\n",
              "      <td>0.00000</td>\n",
              "    </tr>\n",
              "    <tr>\n",
              "      <th>문서4</th>\n",
              "      <td>0.57735</td>\n",
              "      <td>0.00000</td>\n",
              "      <td>0.00000</td>\n",
              "      <td>0.000000</td>\n",
              "      <td>0.00000</td>\n",
              "      <td>0.000000</td>\n",
              "      <td>0.000000</td>\n",
              "      <td>0.57735</td>\n",
              "      <td>0.57735</td>\n",
              "    </tr>\n",
              "  </tbody>\n",
              "</table>\n",
              "</div>"
            ],
            "text/plain": [
              "         과일이       길고       노란        먹고  ...        사과        싶은       저는      좋아요\n",
              "문서1  0.00000  0.00000  0.00000  0.526405  ...  0.667679  0.526405  0.00000  0.00000\n",
              "문서2  0.00000  0.00000  0.00000  0.577350  ...  0.000000  0.577350  0.00000  0.00000\n",
              "문서3  0.00000  0.47212  0.47212  0.000000  ...  0.000000  0.000000  0.00000  0.00000\n",
              "문서4  0.57735  0.00000  0.00000  0.000000  ...  0.000000  0.000000  0.57735  0.57735\n",
              "\n",
              "[4 rows x 9 columns]"
            ]
          },
          "metadata": {
            "tags": []
          },
          "execution_count": 11
        }
      ]
    },
    {
      "cell_type": "code",
      "metadata": {
        "colab": {
          "base_uri": "https://localhost:8080/"
        },
        "id": "_7GwavhVFuf3",
        "outputId": "96df793d-6440-49c9-c907-fb59cb73064e"
      },
      "source": [
        "# 위의 Data Frame 형태의 코사인 유사도 계산 \n",
        "from sklearn.metrics.pairwise import cosine_similarity\n",
        "cosine_similarity(tfidv_df, tfidv_df)"
      ],
      "execution_count": 12,
      "outputs": [
        {
          "output_type": "execute_result",
          "data": {
            "text/plain": [
              "array([[1.        , 0.60784064, 0.        , 0.        ],\n",
              "       [0.60784064, 1.        , 0.42980824, 0.        ],\n",
              "       [0.        , 0.42980824, 1.        , 0.        ],\n",
              "       [0.        , 0.        , 0.        , 1.        ]])"
            ]
          },
          "metadata": {
            "tags": []
          },
          "execution_count": 12
        }
      ]
    },
    {
      "cell_type": "code",
      "metadata": {
        "id": "ZlsS8Rv2JBVQ"
      },
      "source": [
        ""
      ],
      "execution_count": null,
      "outputs": []
    }
  ]
}