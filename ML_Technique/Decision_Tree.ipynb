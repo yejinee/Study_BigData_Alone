{
 "cells": [
  {
   "cell_type": "markdown",
   "source": [
    "# Decision Tree ( 결정 트리 )\r\n",
    "- 데이터에 있는 규칙을 학습을 통해 자동으로 찾아내 Tree기반의 분류 규칙 만듬\r\n",
    "- if/else 를 자동으로 찾아내 예측을 위한 규칙을 만들어 가장 효율적인 분류가 될것인지 만듬\r\n",
    "- data set마다 feature가 있고 feature가 결합해 규칙 조건을 만듬 \r\n",
    "- 많은 규칙이 있다는 것은 분류를 결정하는 방식이 복잡해짐을 의미 \r\n",
    "    - 과적합 유발\r\n",
    "- 트리의 깊이가 깊어질수록 결정트리의 예측 성능이 저하될 가능성이 높음\r\n"
   ],
   "metadata": {}
  },
  {
   "cell_type": "markdown",
   "source": [
    "## 가능한 한 적은 결정노드로 높은 예측 정확도 가지려면?\r\n",
    "- 데이터를 분류할 때 최대한 많은 데이터 세트가 해당 분류에 속할 수 있도록 결정노드의 규칙이 정해져야함 \r\n",
    "- 최대한 균일한 데이터 셋을 구성할 수 있도록 Tree를 분할하는 것이 중요"
   ],
   "metadata": {}
  },
  {
   "cell_type": "markdown",
   "source": [],
   "metadata": {}
  }
 ],
 "metadata": {
  "orig_nbformat": 4,
  "language_info": {
   "name": "python"
  }
 },
 "nbformat": 4,
 "nbformat_minor": 2
}